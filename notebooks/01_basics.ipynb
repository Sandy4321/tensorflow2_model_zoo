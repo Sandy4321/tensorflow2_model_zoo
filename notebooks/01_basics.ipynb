{
 "cells": [
  {
   "cell_type": "markdown",
   "metadata": {},
   "source": [
    "# Tensorflow Basics"
   ]
  },
  {
   "cell_type": "code",
   "execution_count": 1,
   "metadata": {},
   "outputs": [],
   "source": [
    "import os\n",
    "import numpy as np\n",
    "import tensorflow as tf\n",
    "from pprint import pprint\n",
    "os.environ['TF_CPP_MIN_LOG_LEVEL'] = '3' "
   ]
  },
  {
   "cell_type": "markdown",
   "metadata": {},
   "source": [
    "## Create Tensor"
   ]
  },
  {
   "cell_type": "code",
   "execution_count": 2,
   "metadata": {},
   "outputs": [
    {
     "data": {
      "text/plain": [
       "<tf.Tensor: id=2, shape=(5, 4), dtype=float32, numpy=\n",
       "array([[0., 0., 0., 0.],\n",
       "       [0., 0., 0., 0.],\n",
       "       [0., 0., 0., 0.],\n",
       "       [0., 0., 0., 0.],\n",
       "       [0., 0., 0., 0.]], dtype=float32)>"
      ]
     },
     "execution_count": 2,
     "metadata": {},
     "output_type": "execute_result"
    }
   ],
   "source": [
    "tf.zeros((5, 4))"
   ]
  },
  {
   "cell_type": "code",
   "execution_count": 3,
   "metadata": {},
   "outputs": [
    {
     "data": {
      "text/plain": [
       "<tf.Tensor: id=10, shape=(5, 4), dtype=float32, numpy=\n",
       "array([[0.6593343 , 0.07230306, 0.48296297, 0.10836852],\n",
       "       [0.9293139 , 0.21496272, 0.4960618 , 0.01479697],\n",
       "       [0.54694784, 0.51438296, 0.12393415, 0.7816354 ],\n",
       "       [0.17489398, 0.15952492, 0.470325  , 0.9854485 ],\n",
       "       [0.9726702 , 0.40210783, 0.2715323 , 0.51948166]], dtype=float32)>"
      ]
     },
     "execution_count": 3,
     "metadata": {},
     "output_type": "execute_result"
    }
   ],
   "source": [
    "tf.random.uniform((5, 4))"
   ]
  },
  {
   "cell_type": "code",
   "execution_count": 4,
   "metadata": {},
   "outputs": [
    {
     "name": "stdout",
     "output_type": "stream",
     "text": [
      "tf.Tensor(\n",
      "[[0.4490955  0.9569212  0.18194318 0.5841236 ]\n",
      " [0.04345095 0.35750306 0.16177559 0.00886834]\n",
      " [0.6274855  0.8926736  0.14408624 0.540465  ]\n",
      " [0.69044685 0.28571033 0.4133078  0.38084173]\n",
      " [0.5025464  0.46844625 0.9863994  0.11561799]], shape=(5, 4), dtype=float32)\n",
      "(5, 4)\n",
      "<class 'tensorflow.python.framework.ops.EagerTensor'>\n"
     ]
    }
   ],
   "source": [
    "a = tf.random.uniform((5, 4))\n",
    "print(a)\n",
    "print(a.shape)\n",
    "print(type(a))"
   ]
  },
  {
   "cell_type": "markdown",
   "metadata": {},
   "source": [
    "## Converting between numpy arrary and Tensor"
   ]
  },
  {
   "cell_type": "code",
   "execution_count": 5,
   "metadata": {},
   "outputs": [
    {
     "name": "stdout",
     "output_type": "stream",
     "text": [
      "[[0.4490955  0.9569212  0.18194318 0.5841236 ]\n",
      " [0.04345095 0.35750306 0.16177559 0.00886834]\n",
      " [0.6274855  0.8926736  0.14408624 0.540465  ]\n",
      " [0.69044685 0.28571033 0.4133078  0.38084173]\n",
      " [0.5025464  0.46844625 0.9863994  0.11561799]]\n",
      "<class 'numpy.ndarray'>\n"
     ]
    }
   ],
   "source": [
    "b = a.numpy()\n",
    "print(b)\n",
    "print(type(b))"
   ]
  },
  {
   "cell_type": "code",
   "execution_count": 6,
   "metadata": {},
   "outputs": [
    {
     "name": "stdout",
     "output_type": "stream",
     "text": [
      "tf.Tensor(\n",
      "[[0.4490955  0.9569212  0.18194318 0.5841236 ]\n",
      " [0.04345095 0.35750306 0.16177559 0.00886834]\n",
      " [0.6274855  0.8926736  0.14408624 0.540465  ]\n",
      " [0.69044685 0.28571033 0.4133078  0.38084173]\n",
      " [0.5025464  0.46844625 0.9863994  0.11561799]], shape=(5, 4), dtype=float32)\n",
      "<class 'tensorflow.python.framework.ops.EagerTensor'>\n"
     ]
    }
   ],
   "source": [
    "c = tf.convert_to_tensor(b)\n",
    "print(c)\n",
    "print(type(c))"
   ]
  },
  {
   "cell_type": "markdown",
   "metadata": {},
   "source": [
    "## Moving Tensors between devices"
   ]
  },
  {
   "cell_type": "code",
   "execution_count": 7,
   "metadata": {},
   "outputs": [
    {
     "data": {
      "text/plain": [
       "<tf.Tensor: id=23, shape=(5, 4), dtype=float32, numpy=\n",
       "array([[0.4490955 , 0.9569212 , 0.18194318, 0.5841236 ],\n",
       "       [0.04345095, 0.35750306, 0.16177559, 0.00886834],\n",
       "       [0.6274855 , 0.8926736 , 0.14408624, 0.540465  ],\n",
       "       [0.69044685, 0.28571033, 0.4133078 , 0.38084173],\n",
       "       [0.5025464 , 0.46844625, 0.9863994 , 0.11561799]], dtype=float32)>"
      ]
     },
     "execution_count": 7,
     "metadata": {},
     "output_type": "execute_result"
    }
   ],
   "source": [
    "a.cpu()"
   ]
  },
  {
   "cell_type": "code",
   "execution_count": 8,
   "metadata": {},
   "outputs": [],
   "source": [
    "# a.gpu()"
   ]
  },
  {
   "cell_type": "markdown",
   "metadata": {},
   "source": [
    "## Basic operations"
   ]
  },
  {
   "cell_type": "code",
   "execution_count": 9,
   "metadata": {},
   "outputs": [
    {
     "data": {
      "text/plain": [
       "<tf.Tensor: id=26, shape=(5, 4), dtype=float32, numpy=\n",
       "array([[0.898191  , 1.9138424 , 0.36388636, 1.1682472 ],\n",
       "       [0.0869019 , 0.7150061 , 0.32355118, 0.01773667],\n",
       "       [1.254971  , 1.7853472 , 0.28817248, 1.08093   ],\n",
       "       [1.3808937 , 0.57142067, 0.8266156 , 0.76168346],\n",
       "       [1.0050929 , 0.9368925 , 1.9727988 , 0.23123598]], dtype=float32)>"
      ]
     },
     "execution_count": 9,
     "metadata": {},
     "output_type": "execute_result"
    }
   ],
   "source": [
    "a + b"
   ]
  },
  {
   "cell_type": "code",
   "execution_count": 10,
   "metadata": {},
   "outputs": [
    {
     "data": {
      "text/plain": [
       "<tf.Tensor: id=29, shape=(5, 4), dtype=float32, numpy=\n",
       "array([[2.0168675e-01, 9.1569823e-01, 3.3103321e-02, 3.4120038e-01],\n",
       "       [1.8879852e-03, 1.2780844e-01, 2.6171342e-02, 7.8647397e-05],\n",
       "       [3.9373806e-01, 7.9686618e-01, 2.0760845e-02, 2.9210243e-01],\n",
       "       [4.7671685e-01, 8.1630394e-02, 1.7082332e-01, 1.4504042e-01],\n",
       "       [2.5255293e-01, 2.1944189e-01, 9.7298378e-01, 1.3367520e-02]],\n",
       "      dtype=float32)>"
      ]
     },
     "execution_count": 10,
     "metadata": {},
     "output_type": "execute_result"
    }
   ],
   "source": [
    "a * b"
   ]
  },
  {
   "cell_type": "markdown",
   "metadata": {},
   "source": [
    "## Autograd"
   ]
  },
  {
   "cell_type": "code",
   "execution_count": 11,
   "metadata": {},
   "outputs": [
    {
     "name": "stderr",
     "output_type": "stream",
     "text": [
      "WARNING: Logging before flag parsing goes to stderr.\n",
      "W0711 12:05:18.801529 140398161102592 deprecation.py:323] From /home/ren/anaconda3/envs/tf2beta/lib/python3.6/site-packages/tensorflow/python/ops/math_grad.py:1205: add_dispatch_support.<locals>.wrapper (from tensorflow.python.ops.array_ops) is deprecated and will be removed in a future version.\n",
      "Instructions for updating:\n",
      "Use tf.where in 2.0, which has the same broadcast rule as np.where\n"
     ]
    },
    {
     "name": "stdout",
     "output_type": "stream",
     "text": [
      "[<tf.Tensor: id=51, shape=(1,), dtype=float32, numpy=array([8.], dtype=float32)>,\n",
      " <tf.Tensor: id=74, shape=(1,), dtype=float32, numpy=array([3.], dtype=float32)>]\n"
     ]
    }
   ],
   "source": [
    "a = tf.convert_to_tensor([4], dtype='float32')\n",
    "b = tf.convert_to_tensor([5], dtype='float32')\n",
    "\n",
    "with tf.GradientTape() as tape:\n",
    "    tape.watch([a, b])\n",
    "    c = tf.pow(a, 2) + 3 * b\n",
    "pprint(tape.gradient(c, [a, b]))"
   ]
  },
  {
   "cell_type": "markdown",
   "metadata": {},
   "source": [
    "## Module"
   ]
  },
  {
   "cell_type": "code",
   "execution_count": 12,
   "metadata": {},
   "outputs": [],
   "source": [
    "class LinearRegression(tf.Module):\n",
    "    def __init__(self, use_bias=True):\n",
    "        self.use_bias = use_bias\n",
    "        \n",
    "    def build(self, num_features):\n",
    "        self.weights = tf.random.uniform((num_features,), dtype='float32')\n",
    "        self.bias = tf.random.uniform((1, ), dtype='float32') if self.use_bias else None\n",
    "        \n",
    "    def __call__(self, x):\n",
    "        out = tf.tensordot(self.weights, x, 1)\n",
    "        if self.bias:\n",
    "            out += self.bias\n",
    "        return out        "
   ]
  },
  {
   "cell_type": "code",
   "execution_count": 13,
   "metadata": {},
   "outputs": [
    {
     "name": "stdout",
     "output_type": "stream",
     "text": [
      "tf.Tensor([0.90094244 0.83180535 0.8709961  0.9859475  0.04009664], shape=(5,), dtype=float32)\n",
      "tf.Tensor([0.72132206], shape=(1,), dtype=float32)\n"
     ]
    }
   ],
   "source": [
    "lr = LinearRegression(True)\n",
    "lr.build(num_features=5)\n",
    "print(lr.weights)\n",
    "print(lr.bias)"
   ]
  },
  {
   "cell_type": "code",
   "execution_count": 14,
   "metadata": {},
   "outputs": [
    {
     "name": "stdout",
     "output_type": "stream",
     "text": [
      "tf.Tensor(\n",
      "[[0.10816109 0.7041141  0.02964878 0.6321254  0.38572407]\n",
      " [0.9581622  0.44130647 0.06271327 0.9114268  0.9963082 ]\n",
      " [0.46421063 0.0237124  0.8157301  0.1601386  0.39973223]\n",
      " [0.00619853 0.08321834 0.9909061  0.16099322 0.57616127]\n",
      " [0.27389348 0.6962029  0.5150317  0.3789699  0.01299489]], shape=(5, 5), dtype=float32) tf.Tensor(\n",
      "[[0.13241017]\n",
      " [0.44373763]\n",
      " [0.8123131 ]\n",
      " [0.84170616]], shape=(4, 1), dtype=float32)\n"
     ]
    }
   ],
   "source": [
    "x = tf.random.uniform((5, 5))\n",
    "y = tf.random.uniform((4, 1))\n",
    "print(x, y)"
   ]
  },
  {
   "cell_type": "code",
   "execution_count": 15,
   "metadata": {},
   "outputs": [],
   "source": [
    "with tf.GradientTape() as tape:\n",
    "    tape.watch([lr.weights, lr.bias])\n",
    "    out = lr(x)\n",
    "    mse = tf.reduce_mean((y - out)**2)"
   ]
  },
  {
   "cell_type": "code",
   "execution_count": 16,
   "metadata": {},
   "outputs": [
    {
     "name": "stdout",
     "output_type": "stream",
     "text": [
      "tf.Tensor(3.289758, shape=(), dtype=float32)\n"
     ]
    }
   ],
   "source": [
    "print(mse)"
   ]
  },
  {
   "cell_type": "code",
   "execution_count": 17,
   "metadata": {},
   "outputs": [
    {
     "name": "stdout",
     "output_type": "stream",
     "text": [
      "[<tf.Tensor: id=185, shape=(5,), dtype=float32, numpy=\n",
      "array([1.256669 , 2.4021463, 1.4000175, 1.4563565, 1.2101825],\n",
      "      dtype=float32)>,\n",
      " <tf.Tensor: id=178, shape=(1,), dtype=float32, numpy=array([3.515156], dtype=float32)>]\n"
     ]
    }
   ],
   "source": [
    "pprint(tape.gradient(mse, [lr.weights, lr.bias]))"
   ]
  }
 ],
 "metadata": {
  "kernelspec": {
   "display_name": "Python 3",
   "language": "python",
   "name": "python3"
  },
  "language_info": {
   "codemirror_mode": {
    "name": "ipython",
    "version": 3
   },
   "file_extension": ".py",
   "mimetype": "text/x-python",
   "name": "python",
   "nbconvert_exporter": "python",
   "pygments_lexer": "ipython3",
   "version": "3.6.8"
  }
 },
 "nbformat": 4,
 "nbformat_minor": 2
}
