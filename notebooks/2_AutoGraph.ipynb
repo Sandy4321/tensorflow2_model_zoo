{
 "cells": [
  {
   "cell_type": "markdown",
   "metadata": {},
   "source": [
    "# Tensorflow AutoGraph\n",
    "\n",
    "Here we introduce AutoGraph, that is to convert a python function into a Tensorflow computational graph, so the computation can be performed more efficiently. "
   ]
  },
  {
   "cell_type": "code",
   "execution_count": 1,
   "metadata": {},
   "outputs": [],
   "source": [
    "import numpy as np\n",
    "import tensorflow as tf\n",
    "from pprint import pprint"
   ]
  },
  {
   "cell_type": "markdown",
   "metadata": {},
   "source": [
    "## 1 tf.function  \n",
    "\n",
    "`tf.function` converts a python function into a function that executes a tensorflow computational graph when called."
   ]
  },
  {
   "cell_type": "code",
   "execution_count": 2,
   "metadata": {},
   "outputs": [
    {
     "data": {
      "text/plain": [
       "<tensorflow.python.eager.def_function.Function at 0x7f114c4fea58>"
      ]
     },
     "execution_count": 2,
     "metadata": {},
     "output_type": "execute_result"
    }
   ],
   "source": [
    "def func(x):\n",
    "    return (2 + 1) * x + 2 + 1\n",
    "\n",
    "tf_func = tf.function(func)\n",
    "tf_func"
   ]
  },
  {
   "cell_type": "code",
   "execution_count": 3,
   "metadata": {},
   "outputs": [
    {
     "data": {
      "text/plain": [
       "<tf.Tensor: id=6, shape=(), dtype=int32, numpy=9>"
      ]
     },
     "execution_count": 3,
     "metadata": {},
     "output_type": "execute_result"
    }
   ],
   "source": [
    "tf_func(2)"
   ]
  },
  {
   "cell_type": "code",
   "execution_count": 4,
   "metadata": {},
   "outputs": [
    {
     "data": {
      "text/plain": [
       "<tf.Tensor: id=18, shape=(2,), dtype=int32, numpy=array([ 9, 12], dtype=int32)>"
      ]
     },
     "execution_count": 4,
     "metadata": {},
     "output_type": "execute_result"
    }
   ],
   "source": [
    "tf_func(tf.constant([2, 3]))"
   ]
  },
  {
   "cell_type": "markdown",
   "metadata": {},
   "source": [
    "`tf.function` is also a decorator."
   ]
  },
  {
   "cell_type": "code",
   "execution_count": 5,
   "metadata": {},
   "outputs": [
    {
     "data": {
      "text/plain": [
       "<tensorflow.python.eager.def_function.Function at 0x7f11400c1e80>"
      ]
     },
     "execution_count": 5,
     "metadata": {},
     "output_type": "execute_result"
    }
   ],
   "source": [
    "@tf.function\n",
    "def func(x):\n",
    "    for i in tf.range(3):\n",
    "        x = x ** (1 + 1)\n",
    "    return x\n",
    "\n",
    "func"
   ]
  },
  {
   "cell_type": "code",
   "execution_count": 6,
   "metadata": {},
   "outputs": [
    {
     "data": {
      "text/plain": [
       "<tf.Tensor: id=69, shape=(), dtype=int32, numpy=256>"
      ]
     },
     "execution_count": 6,
     "metadata": {},
     "output_type": "execute_result"
    }
   ],
   "source": [
    "func(2)"
   ]
  },
  {
   "cell_type": "code",
   "execution_count": 7,
   "metadata": {},
   "outputs": [
    {
     "data": {
      "text/plain": [
       "<tf.Tensor: id=120, shape=(2,), dtype=int32, numpy=array([ 256, 6561], dtype=int32)>"
      ]
     },
     "execution_count": 7,
     "metadata": {},
     "output_type": "execute_result"
    }
   ],
   "source": [
    "func(tf.constant([2, 3]))"
   ]
  },
  {
   "cell_type": "markdown",
   "metadata": {},
   "source": [
    "If you do so wish, you can take a sneak peak at the computation graph tensorflow created under the hood "
   ]
  },
  {
   "cell_type": "code",
   "execution_count": 8,
   "metadata": {},
   "outputs": [
    {
     "name": "stdout",
     "output_type": "stream",
     "text": [
      "('def tf__func(x):\\n'\n",
      " '  do_return = False\\n'\n",
      " '  retval_ = ag__.UndefinedReturnValue()\\n'\n",
      " \"  with ag__.FunctionScope('func', 'func_scope', \"\n",
      " 'ag__.ConversionOptions(recursive=True, user_requested=True, '\n",
      " 'optional_features=(), internal_convert_user_code=True)) as func_scope:\\n'\n",
      " '\\n'\n",
      " '    def get_state():\\n'\n",
      " '      return ()\\n'\n",
      " '\\n'\n",
      " '    def set_state(_):\\n'\n",
      " '      pass\\n'\n",
      " '\\n'\n",
      " '    def loop_body(iterates, x):\\n'\n",
      " '      i = iterates\\n'\n",
      " '      x = x ** (1 + 1)\\n'\n",
      " '      return x,\\n'\n",
      " '    x, = ag__.for_stmt(ag__.converted_call(tf.range, func_scope.callopts, '\n",
      " '(3,), None, func_scope), None, loop_body, get_state, set_state, (x,), '\n",
      " \"('x',), ())\\n\"\n",
      " '    do_return = True\\n'\n",
      " '    retval_ = func_scope.mark_return_value(x)\\n'\n",
      " '  do_return,\\n'\n",
      " '  return ag__.retval(retval_)\\n')\n"
     ]
    }
   ],
   "source": [
    "pprint(tf.autograph.to_code(func.python_function))"
   ]
  },
  {
   "cell_type": "markdown",
   "metadata": {},
   "source": [
    "## 2 Caveats when using tf.function\n",
    "\n",
    "Without go in detail about how tf.function works, one can guess that tensorflow needs to take a look at the inner function once(`trace`) to figure out how to put it on graph and optimize a bit. But probably it is only doing that for the very first time. Also, obviously not every arbitrary python code can tensorflow understand and convert to graphs. So, here are few caveats when working with tf.function. \n",
    "\n",
    "### Only use Tensorflow operations inside tf.function when possible"
   ]
  },
  {
   "cell_type": "code",
   "execution_count": 9,
   "metadata": {},
   "outputs": [
    {
     "name": "stdout",
     "output_type": "stream",
     "text": [
      "tf.Tensor([1.8052909], shape=(1,), dtype=float64)\n",
      "tf.Tensor([1.8052909], shape=(1,), dtype=float64)\n",
      "tf.Tensor([1.8052909], shape=(1,), dtype=float64)\n",
      "tf.Tensor([1.8052909], shape=(1,), dtype=float64)\n",
      "tf.Tensor([1.8052909], shape=(1,), dtype=float64)\n"
     ]
    }
   ],
   "source": [
    "@tf.function\n",
    "def add_noise(x):\n",
    "    e = np.random.random(1)\n",
    "    return x + e\n",
    "\n",
    "for i in range(5):\n",
    "    print(add_noise(1))"
   ]
  },
  {
   "cell_type": "code",
   "execution_count": 10,
   "metadata": {},
   "outputs": [
    {
     "name": "stdout",
     "output_type": "stream",
     "text": [
      "tf.Tensor([1.6505606], shape=(1,), dtype=float32)\n",
      "tf.Tensor([1.7381033], shape=(1,), dtype=float32)\n",
      "tf.Tensor([1.0657276], shape=(1,), dtype=float32)\n",
      "tf.Tensor([1.635862], shape=(1,), dtype=float32)\n",
      "tf.Tensor([1.8456978], shape=(1,), dtype=float32)\n"
     ]
    }
   ],
   "source": [
    "@tf.function\n",
    "def add_noise(x):\n",
    "    e = tf.random.uniform((1,))\n",
    "    return x + e\n",
    "\n",
    "for i in range(5):\n",
    "    print(add_noise(1))"
   ]
  },
  {
   "cell_type": "markdown",
   "metadata": {},
   "source": [
    "So in the first `add_noise` function, the random noise term is actually recorded as a constant in the computation graph during `tracing`.\n",
    "\n",
    "If it indeed neccessary to have non-tensorflow operations inside `tf.funcion`, we can wrap the non-tensorflow operations in `tf.py_function`. This wrapped non-tensorflow code is ofcourse not optimized by tensorflow for obvious reasons."
   ]
  },
  {
   "cell_type": "code",
   "execution_count": 11,
   "metadata": {},
   "outputs": [
    {
     "name": "stdout",
     "output_type": "stream",
     "text": [
      "tf.Tensor([1.9542024], shape=(1,), dtype=float32)\n",
      "tf.Tensor([1.1382076], shape=(1,), dtype=float32)\n",
      "tf.Tensor([1.8553867], shape=(1,), dtype=float32)\n",
      "tf.Tensor([1.0616622], shape=(1,), dtype=float32)\n",
      "tf.Tensor([1.3642895], shape=(1,), dtype=float32)\n"
     ]
    }
   ],
   "source": [
    "@tf.function\n",
    "def add_noise(x):\n",
    "    e = tf.py_function(np.random.random, [1], tf.float32) \n",
    "    return x + e\n",
    "\n",
    "for i in range(5):\n",
    "    print(add_noise(1))"
   ]
  },
  {
   "cell_type": "markdown",
   "metadata": {},
   "source": [
    "### Watch out for side effects"
   ]
  },
  {
   "cell_type": "code",
   "execution_count": 12,
   "metadata": {},
   "outputs": [
    {
     "name": "stdout",
     "output_type": "stream",
     "text": [
      "Tensor(\"Square:0\", shape=(), dtype=int32)\n"
     ]
    }
   ],
   "source": [
    "@tf.function\n",
    "def square(x):\n",
    "    squared = tf.square(x)\n",
    "    print(squared)\n",
    "    return squared\n",
    "\n",
    "x = tf.Variable(0)\n",
    "for i in range(5):\n",
    "    x.assign(i)\n",
    "    square(x)"
   ]
  },
  {
   "cell_type": "markdown",
   "metadata": {},
   "source": [
    "Notice there is only one printout in total 5 function calls. The `print` statement is only executed in the first function call.\n",
    "\n",
    "A walk around again is to use `tf.py_function` to wrap the arbitrary python code. "
   ]
  },
  {
   "cell_type": "code",
   "execution_count": 13,
   "metadata": {},
   "outputs": [
    {
     "name": "stdout",
     "output_type": "stream",
     "text": [
      "tf.Tensor(0, shape=(), dtype=int32)\n",
      "tf.Tensor(1, shape=(), dtype=int32)\n",
      "tf.Tensor(4, shape=(), dtype=int32)\n",
      "tf.Tensor(9, shape=(), dtype=int32)\n",
      "tf.Tensor(16, shape=(), dtype=int32)\n"
     ]
    }
   ],
   "source": [
    "@tf.function\n",
    "def square(x):\n",
    "    squared = tf.square(x)\n",
    "    tf.py_function(print, [squared], [])\n",
    "    return squared\n",
    "\n",
    "x = tf.Variable(0)\n",
    "for i in range(5):\n",
    "    x.assign(i)\n",
    "    square(x)"
   ]
  },
  {
   "cell_type": "markdown",
   "metadata": {},
   "source": [
    "or you can use `tf.print` ..."
   ]
  },
  {
   "cell_type": "code",
   "execution_count": 14,
   "metadata": {},
   "outputs": [
    {
     "name": "stdout",
     "output_type": "stream",
     "text": [
      "0\n",
      "1\n",
      "4\n",
      "9\n",
      "16\n"
     ]
    }
   ],
   "source": [
    "@tf.function\n",
    "def square(x):\n",
    "    squared = tf.square(x)\n",
    "    tf.print(squared)\n",
    "    return squared\n",
    "\n",
    "x = tf.Variable(0)\n",
    "for i in range(5):\n",
    "    x.assign(i)\n",
    "    square(x)"
   ]
  },
  {
   "cell_type": "markdown",
   "metadata": {},
   "source": [
    "### Not always faster!\n",
    "\n",
    "Note that even with a function that performs pure tensorflow operations on tensorflow tensors, it is not neccessarily the case that convert it into a graph would give you speed up. On small and simple operations, the graph mode seems to be slower due to some overhead? \n",
    "\n",
    "But with more complexity and larger data sizes, build graphs with tf.function is definitely faster. "
   ]
  },
  {
   "cell_type": "code",
   "execution_count": 15,
   "metadata": {},
   "outputs": [],
   "source": [
    "def forward_pass(x, y, weights):\n",
    "    y_hat = tf.matmul(x, weights)\n",
    "    mse = tf.reduce_mean(tf.square(y - y_hat))\n",
    "    return mse\n",
    "\n",
    "@tf.function\n",
    "def tf_forward_pass(x, y, weights):\n",
    "    y_hat = tf.matmul(x, weights)\n",
    "    mse = tf.reduce_mean(tf.square(y - y_hat))\n",
    "    return mse\n",
    "\n",
    "x = tf.constant(tf.random.uniform((1000, 100)))\n",
    "y = tf.constant(tf.random.uniform((1000, 1)))\n",
    "weights = tf.constant(tf.random.uniform((100, 1)))\n",
    "\n",
    "assert forward_pass(x, y, weights) == tf_forward_pass(x, y, weights)"
   ]
  },
  {
   "cell_type": "code",
   "execution_count": 16,
   "metadata": {},
   "outputs": [
    {
     "name": "stdout",
     "output_type": "stream",
     "text": [
      "186 µs ± 1 µs per loop (mean ± std. dev. of 7 runs, 10000 loops each)\n"
     ]
    }
   ],
   "source": [
    "%timeit forward_pass(x, y, weights)"
   ]
  },
  {
   "cell_type": "code",
   "execution_count": 17,
   "metadata": {},
   "outputs": [
    {
     "name": "stdout",
     "output_type": "stream",
     "text": [
      "215 µs ± 3.98 µs per loop (mean ± std. dev. of 7 runs, 1000 loops each)\n"
     ]
    }
   ],
   "source": [
    "%timeit tf_forward_pass(x, y, weights)"
   ]
  },
  {
   "cell_type": "code",
   "execution_count": 18,
   "metadata": {},
   "outputs": [],
   "source": [
    "x = tf.constant(tf.random.uniform((1000000, 100)))\n",
    "y = tf.constant(tf.random.uniform((1000000, 1)))\n",
    "weights = tf.constant(tf.random.uniform((100, 1)))\n",
    "\n",
    "assert forward_pass(x, y, weights) == tf_forward_pass(x, y, weights)"
   ]
  },
  {
   "cell_type": "code",
   "execution_count": 19,
   "metadata": {},
   "outputs": [
    {
     "name": "stdout",
     "output_type": "stream",
     "text": [
      "1.03 ms ± 17.7 ns per loop (mean ± std. dev. of 7 runs, 1000 loops each)\n"
     ]
    }
   ],
   "source": [
    "%timeit forward_pass(x, y, weights)"
   ]
  },
  {
   "cell_type": "code",
   "execution_count": 20,
   "metadata": {},
   "outputs": [
    {
     "name": "stdout",
     "output_type": "stream",
     "text": [
      "1.01 ms ± 71.4 ns per loop (mean ± std. dev. of 7 runs, 1000 loops each)\n"
     ]
    }
   ],
   "source": [
    "%timeit tf_forward_pass(x, y, weights)"
   ]
  },
  {
   "cell_type": "code",
   "execution_count": 21,
   "metadata": {},
   "outputs": [],
   "source": [
    "def forward_pass(x, y, weights):\n",
    "    for i in range(1000):\n",
    "        weights = weights * weights\n",
    "    y_hat = tf.matmul(x, weights)\n",
    "    mse = tf.reduce_mean(tf.square(y - y_hat))\n",
    "    return mse\n",
    "\n",
    "@tf.function\n",
    "def tf_forward_pass(x, y, weights):\n",
    "    for i in tf.range(1000):\n",
    "        weights = tf.square(weights)\n",
    "    y_hat = tf.matmul(x, weights)\n",
    "    mse = tf.reduce_mean(tf.square(y - y_hat))\n",
    "    return mse\n",
    "\n",
    "x = tf.constant(tf.random.uniform((1000, 100)))\n",
    "y = tf.constant(tf.random.uniform((1000, 1)))\n",
    "weights = tf.constant(tf.random.uniform((100, 1)))\n",
    "\n",
    "assert forward_pass(x, y, weights) == tf_forward_pass(x, y, weights)"
   ]
  },
  {
   "cell_type": "code",
   "execution_count": 22,
   "metadata": {},
   "outputs": [
    {
     "name": "stdout",
     "output_type": "stream",
     "text": [
      "39 ms ± 152 µs per loop (mean ± std. dev. of 7 runs, 10 loops each)\n"
     ]
    }
   ],
   "source": [
    "%timeit forward_pass(x, y, weights)"
   ]
  },
  {
   "cell_type": "code",
   "execution_count": 23,
   "metadata": {},
   "outputs": [
    {
     "name": "stdout",
     "output_type": "stream",
     "text": [
      "25 ms ± 183 µs per loop (mean ± std. dev. of 7 runs, 10 loops each)\n"
     ]
    }
   ],
   "source": [
    "%timeit tf_forward_pass(x, y, weights)"
   ]
  }
 ],
 "metadata": {
  "kernelspec": {
   "display_name": "Python 3",
   "language": "python",
   "name": "python3"
  },
  "language_info": {
   "codemirror_mode": {
    "name": "ipython",
    "version": 3
   },
   "file_extension": ".py",
   "mimetype": "text/x-python",
   "name": "python",
   "nbconvert_exporter": "python",
   "pygments_lexer": "ipython3",
   "version": "3.6.9"
  }
 },
 "nbformat": 4,
 "nbformat_minor": 2
}
